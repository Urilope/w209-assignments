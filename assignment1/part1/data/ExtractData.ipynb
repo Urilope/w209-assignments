{
 "cells": [
  {
   "cell_type": "code",
   "execution_count": 14,
   "metadata": {},
   "outputs": [],
   "source": [
    "import pandas as pd\n",
    "import numpy as np\n",
    "import os\n",
    "import sys\n",
    "from pprint import pprint"
   ]
  },
  {
   "cell_type": "code",
   "execution_count": 8,
   "metadata": {},
   "outputs": [
    {
     "data": {
      "text/html": [
       "<div>\n",
       "<style scoped>\n",
       "    .dataframe tbody tr th:only-of-type {\n",
       "        vertical-align: middle;\n",
       "    }\n",
       "\n",
       "    .dataframe tbody tr th {\n",
       "        vertical-align: top;\n",
       "    }\n",
       "\n",
       "    .dataframe thead th {\n",
       "        text-align: right;\n",
       "    }\n",
       "</style>\n",
       "<table border=\"1\" class=\"dataframe\">\n",
       "  <thead>\n",
       "    <tr style=\"text-align: right;\">\n",
       "      <th></th>\n",
       "      <th>Date</th>\n",
       "      <th>Calories (kcal)</th>\n",
       "      <th>Distance (m)</th>\n",
       "      <th>Low latitude (deg)</th>\n",
       "      <th>Low longitude (deg)</th>\n",
       "      <th>High latitude (deg)</th>\n",
       "      <th>High longitude (deg)</th>\n",
       "      <th>Average speed (m/s)</th>\n",
       "      <th>Max speed (m/s)</th>\n",
       "      <th>Min speed (m/s)</th>\n",
       "      <th>...</th>\n",
       "      <th>Average weight (kg)</th>\n",
       "      <th>Max weight (kg)</th>\n",
       "      <th>Min weight (kg)</th>\n",
       "      <th>Biking duration (ms)</th>\n",
       "      <th>Inactive duration (ms)</th>\n",
       "      <th>Walking duration (ms)</th>\n",
       "      <th>Running duration (ms)</th>\n",
       "      <th>Light sleeping duration (ms)</th>\n",
       "      <th>Deep sleeping duration (ms)</th>\n",
       "      <th>Awake mid-sleeping duration (ms)</th>\n",
       "    </tr>\n",
       "  </thead>\n",
       "  <tbody>\n",
       "    <tr>\n",
       "      <th>0</th>\n",
       "      <td>2019-05-17</td>\n",
       "      <td>1278.508665</td>\n",
       "      <td>NaN</td>\n",
       "      <td>NaN</td>\n",
       "      <td>NaN</td>\n",
       "      <td>NaN</td>\n",
       "      <td>NaN</td>\n",
       "      <td>NaN</td>\n",
       "      <td>NaN</td>\n",
       "      <td>NaN</td>\n",
       "      <td>...</td>\n",
       "      <td>NaN</td>\n",
       "      <td>NaN</td>\n",
       "      <td>NaN</td>\n",
       "      <td>NaN</td>\n",
       "      <td>NaN</td>\n",
       "      <td>NaN</td>\n",
       "      <td>NaN</td>\n",
       "      <td>NaN</td>\n",
       "      <td>NaN</td>\n",
       "      <td>NaN</td>\n",
       "    </tr>\n",
       "    <tr>\n",
       "      <th>1</th>\n",
       "      <td>2019-05-18</td>\n",
       "      <td>1716.999927</td>\n",
       "      <td>2.808845</td>\n",
       "      <td>NaN</td>\n",
       "      <td>NaN</td>\n",
       "      <td>NaN</td>\n",
       "      <td>NaN</td>\n",
       "      <td>NaN</td>\n",
       "      <td>NaN</td>\n",
       "      <td>NaN</td>\n",
       "      <td>...</td>\n",
       "      <td>NaN</td>\n",
       "      <td>NaN</td>\n",
       "      <td>NaN</td>\n",
       "      <td>NaN</td>\n",
       "      <td>NaN</td>\n",
       "      <td>NaN</td>\n",
       "      <td>NaN</td>\n",
       "      <td>NaN</td>\n",
       "      <td>NaN</td>\n",
       "      <td>NaN</td>\n",
       "    </tr>\n",
       "    <tr>\n",
       "      <th>2</th>\n",
       "      <td>2019-05-19</td>\n",
       "      <td>2903.120609</td>\n",
       "      <td>15090.260868</td>\n",
       "      <td>0.296724</td>\n",
       "      <td>32.600712</td>\n",
       "      <td>0.354805</td>\n",
       "      <td>32.619065</td>\n",
       "      <td>0.557241</td>\n",
       "      <td>9.374589</td>\n",
       "      <td>0.000000</td>\n",
       "      <td>...</td>\n",
       "      <td>82.0</td>\n",
       "      <td>82.0</td>\n",
       "      <td>82.0</td>\n",
       "      <td>NaN</td>\n",
       "      <td>54530593.0</td>\n",
       "      <td>5802101.0</td>\n",
       "      <td>3000000.0</td>\n",
       "      <td>NaN</td>\n",
       "      <td>NaN</td>\n",
       "      <td>NaN</td>\n",
       "    </tr>\n",
       "    <tr>\n",
       "      <th>3</th>\n",
       "      <td>2019-05-20</td>\n",
       "      <td>1886.898486</td>\n",
       "      <td>750.845708</td>\n",
       "      <td>0.296751</td>\n",
       "      <td>32.609176</td>\n",
       "      <td>0.297096</td>\n",
       "      <td>32.609301</td>\n",
       "      <td>0.964096</td>\n",
       "      <td>1.561328</td>\n",
       "      <td>0.340283</td>\n",
       "      <td>...</td>\n",
       "      <td>NaN</td>\n",
       "      <td>NaN</td>\n",
       "      <td>NaN</td>\n",
       "      <td>NaN</td>\n",
       "      <td>64545400.0</td>\n",
       "      <td>2547860.0</td>\n",
       "      <td>NaN</td>\n",
       "      <td>7200000.0</td>\n",
       "      <td>7020000.0</td>\n",
       "      <td>NaN</td>\n",
       "    </tr>\n",
       "    <tr>\n",
       "      <th>4</th>\n",
       "      <td>2019-05-21</td>\n",
       "      <td>2280.487410</td>\n",
       "      <td>5606.706891</td>\n",
       "      <td>0.296469</td>\n",
       "      <td>32.580508</td>\n",
       "      <td>0.357847</td>\n",
       "      <td>32.615005</td>\n",
       "      <td>0.731054</td>\n",
       "      <td>6.631569</td>\n",
       "      <td>0.000000</td>\n",
       "      <td>...</td>\n",
       "      <td>NaN</td>\n",
       "      <td>NaN</td>\n",
       "      <td>NaN</td>\n",
       "      <td>NaN</td>\n",
       "      <td>52658550.0</td>\n",
       "      <td>2897271.0</td>\n",
       "      <td>1980000.0</td>\n",
       "      <td>12660000.0</td>\n",
       "      <td>9540000.0</td>\n",
       "      <td>NaN</td>\n",
       "    </tr>\n",
       "  </tbody>\n",
       "</table>\n",
       "<p>5 rows × 21 columns</p>\n",
       "</div>"
      ],
      "text/plain": [
       "         Date  Calories (kcal)  Distance (m)  Low latitude (deg)  \\\n",
       "0  2019-05-17      1278.508665           NaN                 NaN   \n",
       "1  2019-05-18      1716.999927      2.808845                 NaN   \n",
       "2  2019-05-19      2903.120609  15090.260868            0.296724   \n",
       "3  2019-05-20      1886.898486    750.845708            0.296751   \n",
       "4  2019-05-21      2280.487410   5606.706891            0.296469   \n",
       "\n",
       "   Low longitude (deg)  High latitude (deg)  High longitude (deg)  \\\n",
       "0                  NaN                  NaN                   NaN   \n",
       "1                  NaN                  NaN                   NaN   \n",
       "2            32.600712             0.354805             32.619065   \n",
       "3            32.609176             0.297096             32.609301   \n",
       "4            32.580508             0.357847             32.615005   \n",
       "\n",
       "   Average speed (m/s)  Max speed (m/s)  Min speed (m/s)  \\\n",
       "0                  NaN              NaN              NaN   \n",
       "1                  NaN              NaN              NaN   \n",
       "2             0.557241         9.374589         0.000000   \n",
       "3             0.964096         1.561328         0.340283   \n",
       "4             0.731054         6.631569         0.000000   \n",
       "\n",
       "                 ...                 Average weight (kg)  Max weight (kg)  \\\n",
       "0                ...                                 NaN              NaN   \n",
       "1                ...                                 NaN              NaN   \n",
       "2                ...                                82.0             82.0   \n",
       "3                ...                                 NaN              NaN   \n",
       "4                ...                                 NaN              NaN   \n",
       "\n",
       "   Min weight (kg)  Biking duration (ms)  Inactive duration (ms)  \\\n",
       "0              NaN                   NaN                     NaN   \n",
       "1              NaN                   NaN                     NaN   \n",
       "2             82.0                   NaN              54530593.0   \n",
       "3              NaN                   NaN              64545400.0   \n",
       "4              NaN                   NaN              52658550.0   \n",
       "\n",
       "   Walking duration (ms)  Running duration (ms)  Light sleeping duration (ms)  \\\n",
       "0                    NaN                    NaN                           NaN   \n",
       "1                    NaN                    NaN                           NaN   \n",
       "2              5802101.0              3000000.0                           NaN   \n",
       "3              2547860.0                    NaN                     7200000.0   \n",
       "4              2897271.0              1980000.0                    12660000.0   \n",
       "\n",
       "   Deep sleeping duration (ms)  Awake mid-sleeping duration (ms)  \n",
       "0                          NaN                               NaN  \n",
       "1                          NaN                               NaN  \n",
       "2                          NaN                               NaN  \n",
       "3                    7020000.0                               NaN  \n",
       "4                    9540000.0                               NaN  \n",
       "\n",
       "[5 rows x 21 columns]"
      ]
     },
     "execution_count": 8,
     "metadata": {},
     "output_type": "execute_result"
    }
   ],
   "source": [
    "data = pd.read_csv('Takeout/Fit/Daily Aggregations/Daily Summaries.csv')\n",
    "data.head()"
   ]
  },
  {
   "cell_type": "code",
   "execution_count": 10,
   "metadata": {},
   "outputs": [
    {
     "data": {
      "text/plain": [
       "123"
      ]
     },
     "execution_count": 10,
     "metadata": {},
     "output_type": "execute_result"
    }
   ],
   "source": [
    "dates = data['Date'].tolist()\n",
    "len(dates)"
   ]
  },
  {
   "cell_type": "code",
   "execution_count": 11,
   "metadata": {},
   "outputs": [
    {
     "data": {
      "text/plain": [
       "123"
      ]
     },
     "execution_count": 11,
     "metadata": {},
     "output_type": "execute_result"
    }
   ],
   "source": [
    "dists = data['Distance (m)']\n",
    "len(dists)"
   ]
  },
  {
   "cell_type": "code",
   "execution_count": 12,
   "metadata": {},
   "outputs": [
    {
     "data": {
      "text/plain": [
       "123"
      ]
     },
     "execution_count": 12,
     "metadata": {},
     "output_type": "execute_result"
    }
   ],
   "source": [
    "steps = data['Step count']\n",
    "len(steps)"
   ]
  },
  {
   "cell_type": "code",
   "execution_count": 13,
   "metadata": {},
   "outputs": [],
   "source": [
    "summary = []\n",
    "for date, dist, step in zip(dates[-30:], dists[-30:], steps[-30:]):\n",
    "    day_summary = {\n",
    "        'date' : date,\n",
    "        'distance' : dist,\n",
    "        'steps' : step\n",
    "    }\n",
    "    \n",
    "    summary.append(day_summary)"
   ]
  },
  {
   "cell_type": "code",
   "execution_count": 15,
   "metadata": {},
   "outputs": [
    {
     "name": "stdout",
     "output_type": "stream",
     "text": [
      "[{'date': '2019-08-18', 'distance': 769.142503619194, 'steps': 2394.0},\n",
      " {'date': '2019-08-19', 'distance': 1177.216609954834, 'steps': 3492.0},\n",
      " {'date': '2019-08-20', 'distance': 1615.4772098064425, 'steps': 4537.0}]\n"
     ]
    }
   ],
   "source": [
    "pprint(summary[:3])"
   ]
  },
  {
   "cell_type": "code",
   "execution_count": 16,
   "metadata": {},
   "outputs": [
    {
     "name": "stdout",
     "output_type": "stream",
     "text": [
      "[{'date': '2019-08-18', 'distance': 769.142503619194, 'steps': 2394.0},\n",
      " {'date': '2019-08-19', 'distance': 1177.216609954834, 'steps': 3492.0},\n",
      " {'date': '2019-08-20', 'distance': 1615.4772098064425, 'steps': 4537.0},\n",
      " {'date': '2019-08-21', 'distance': 613.88573127985, 'steps': 3314.0},\n",
      " {'date': '2019-08-22', 'distance': 1609.1745053690063, 'steps': 5723.0},\n",
      " {'date': '2019-08-23', 'distance': 1920.6135819394005, 'steps': 4568.0},\n",
      " {'date': '2019-08-24', 'distance': 184.2212340831757, 'steps': 1679.0},\n",
      " {'date': '2019-08-25', 'distance': 640.3923880457877, 'steps': 3393.0},\n",
      " {'date': '2019-08-26', 'distance': 2225.3320875167847, 'steps': 3265.0},\n",
      " {'date': '2019-08-27', 'distance': 926.5876799225807, 'steps': 2369.0},\n",
      " {'date': '2019-08-28', 'distance': 2127.0540373325352, 'steps': 4264.0},\n",
      " {'date': '2019-08-29', 'distance': 1481.6442728103366, 'steps': 4077.0},\n",
      " {'date': '2019-08-30', 'distance': 7032.1346746324325, 'steps': 5031.0},\n",
      " {'date': '2019-08-31', 'distance': nan, 'steps': 1162.0},\n",
      " {'date': '2019-09-01', 'distance': nan, 'steps': 510.0},\n",
      " {'date': '2019-09-02', 'distance': nan, 'steps': 613.0},\n",
      " {'date': '2019-09-03', 'distance': nan, 'steps': 371.0},\n",
      " {'date': '2019-09-04', 'distance': 1128.3976033465694, 'steps': 2762.0},\n",
      " {'date': '2019-09-05', 'distance': 10967.97505073477, 'steps': 6356.0},\n",
      " {'date': '2019-09-06', 'distance': 3172.3470586528833, 'steps': 12265.0},\n",
      " {'date': '2019-09-07', 'distance': nan, 'steps': 11929.0},\n",
      " {'date': '2019-09-08', 'distance': nan, 'steps': 7801.0},\n",
      " {'date': '2019-09-09', 'distance': nan, 'steps': 3727.0},\n",
      " {'date': '2019-09-10', 'distance': nan, 'steps': 2369.0},\n",
      " {'date': '2019-09-11', 'distance': 21.434873949579828, 'steps': 4832.0},\n",
      " {'date': '2019-09-12', 'distance': 590.0085222768353, 'steps': 6891.0},\n",
      " {'date': '2019-09-13', 'distance': 794.5566037735849, 'steps': 4342.0},\n",
      " {'date': '2019-09-14', 'distance': nan, 'steps': 5594.0},\n",
      " {'date': '2019-09-15', 'distance': nan, 'steps': 4752.0},\n",
      " {'date': '2019-09-16', 'distance': nan, 'steps': 4592.0}]\n"
     ]
    }
   ],
   "source": [
    "pprint(summary)"
   ]
  },
  {
   "cell_type": "code",
   "execution_count": 18,
   "metadata": {},
   "outputs": [
    {
     "name": "stdout",
     "output_type": "stream",
     "text": [
      "0          NaN\n",
      "1          4.0\n",
      "2       9548.0\n",
      "3       1529.0\n",
      "4       5415.0\n",
      "5       2328.0\n",
      "6       2039.0\n",
      "7       2364.0\n",
      "8       2247.0\n",
      "9       4671.0\n",
      "10      4094.0\n",
      "11      3715.0\n",
      "12      3054.0\n",
      "13      3963.0\n",
      "14      4477.0\n",
      "15      3677.0\n",
      "16      2567.0\n",
      "17      3774.0\n",
      "18      3040.0\n",
      "19      3150.0\n",
      "20       953.0\n",
      "21      4215.0\n",
      "22      6963.0\n",
      "23       639.0\n",
      "24      3255.0\n",
      "25      2887.0\n",
      "26      1947.0\n",
      "27      3203.0\n",
      "28      3276.0\n",
      "29     15390.0\n",
      "        ...   \n",
      "93      2394.0\n",
      "94      3492.0\n",
      "95      4537.0\n",
      "96      3314.0\n",
      "97      5723.0\n",
      "98      4568.0\n",
      "99      1679.0\n",
      "100     3393.0\n",
      "101     3265.0\n",
      "102     2369.0\n",
      "103     4264.0\n",
      "104     4077.0\n",
      "105     5031.0\n",
      "106     1162.0\n",
      "107      510.0\n",
      "108      613.0\n",
      "109      371.0\n",
      "110     2762.0\n",
      "111     6356.0\n",
      "112    12265.0\n",
      "113    11929.0\n",
      "114     7801.0\n",
      "115     3727.0\n",
      "116     2369.0\n",
      "117     4832.0\n",
      "118     6891.0\n",
      "119     4342.0\n",
      "120     5594.0\n",
      "121     4752.0\n",
      "122     4592.0\n",
      "Name: Step count, Length: 123, dtype: float64\n"
     ]
    }
   ],
   "source": [
    "print(steps)"
   ]
  },
  {
   "cell_type": "code",
   "execution_count": null,
   "metadata": {},
   "outputs": [],
   "source": []
  }
 ],
 "metadata": {
  "kernelspec": {
   "display_name": "Python 3",
   "language": "python",
   "name": "python3"
  },
  "language_info": {
   "codemirror_mode": {
    "name": "ipython",
    "version": 3
   },
   "file_extension": ".py",
   "mimetype": "text/x-python",
   "name": "python",
   "nbconvert_exporter": "python",
   "pygments_lexer": "ipython3",
   "version": "3.6.5"
  }
 },
 "nbformat": 4,
 "nbformat_minor": 2
}
